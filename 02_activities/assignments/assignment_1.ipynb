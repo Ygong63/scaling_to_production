{
 "cells": [
  {
   "cell_type": "markdown",
   "metadata": {},
   "source": [
    "# Working with parquet files\n",
    "\n",
    "## Objective\n",
    "\n",
    "+ In this assignment, we will use the data downloaded with the module `data_manager` to create features.\n",
    "\n",
    "(11 pts total)\n",
    "\n",
    "## Prerequisites\n",
    "\n",
    "+ This notebook assumes that price data is available to you in the environment variable `PRICE_DATA`. If you have not done so, then execute the notebook `production_2_data_engineering.ipynb` to create this data set.\n"
   ]
  },
  {
   "cell_type": "markdown",
   "metadata": {},
   "source": [
    "+ Load the environment variables using dotenv. (1 pt)"
   ]
  },
  {
   "cell_type": "code",
   "execution_count": 4,
   "metadata": {},
   "outputs": [],
   "source": [
    "# Write your code below.\n",
    "%reload_ext dotenv\n",
    "%dotenv\n"
   ]
  },
  {
   "cell_type": "code",
   "execution_count": 5,
   "metadata": {},
   "outputs": [],
   "source": [
    "import dask\n",
    "dask.config.set({'dataframe.query-planning': True})\n",
    "import dask.dataframe as dd"
   ]
  },
  {
   "cell_type": "markdown",
   "metadata": {},
   "source": [
    "+ Load the environment variable `PRICE_DATA`.\n",
    "+ Use [glob](https://docs.python.org/3/library/glob.html) to find the path of all parquet files in the directory `PRICE_DATA`.\n",
    "\n",
    "(1pt)"
   ]
  },
  {
   "cell_type": "code",
   "execution_count": 28,
   "metadata": {},
   "outputs": [
    {
     "name": "stdout",
     "output_type": "stream",
     "text": [
      "             Date       Open       High        Low      Close  Adj Close  \\\n",
      "ticker                                                                     \n",
      "A      2000-01-03  56.330471  56.464592  48.193848  51.502148  43.613007   \n",
      "A      2000-01-04  48.730328  49.266811  46.316166  47.567955  40.281456   \n",
      "A      2000-01-05  47.389126  47.567955  43.141991  44.617310  37.782803   \n",
      "A      2000-01-06  44.080830  44.349072  41.577251  42.918453  36.344173   \n",
      "A      2000-01-07  42.247852  47.165592  42.203148  46.494991  39.372841   \n",
      "\n",
      "         Volume       sector                       subsector  year  \n",
      "ticker                                                              \n",
      "A       4674353  Health Care  Life Sciences Tools & Services  2000  \n",
      "A       4765083  Health Care  Life Sciences Tools & Services  2000  \n",
      "A       5758642  Health Care  Life Sciences Tools & Services  2000  \n",
      "A       2534434  Health Care  Life Sciences Tools & Services  2000  \n",
      "A       2819626  Health Care  Life Sciences Tools & Services  2000  \n"
     ]
    }
   ],
   "source": [
    "import os\n",
    "from glob import glob\n",
    "import dask.dataframe as dd\n",
    "\n",
    "# Write your code below.\n",
    "PRICE_DATA = os.getenv(\"PRICE_DATA\")\n",
    "parquet_files = glob(os.path.join(os.getenv(\"PRICE_DATA\"), \"*/*.parquet/*.*.parquet\"))\n",
    "dd_px = dd.read_parquet(parquet_files).set_index(\"ticker\")\n",
    "print(dd_px.head())"
   ]
  },
  {
   "cell_type": "markdown",
   "metadata": {},
   "source": [
    "For each ticker and using Dask, do the following:\n",
    "\n",
    "+ Add lags for variables Close and Adj_Close.\n",
    "+ Add returns based on Adjusted Close:\n",
    "    \n",
    "    - `returns`: (Adj Close / Adj Close_lag) - 1\n",
    "\n",
    "+ Add the following range: \n",
    "\n",
    "    - `hi_lo_range`: this is the day's High minus Low.\n",
    "\n",
    "+ Assign the result to `dd_feat`.\n",
    "\n",
    "(4 pt)"
   ]
  },
  {
   "cell_type": "code",
   "execution_count": 31,
   "metadata": {},
   "outputs": [
    {
     "name": "stdout",
     "output_type": "stream",
     "text": [
      "             Date       Open       High        Low      Close  Adj Close  \\\n",
      "ticker                                                                     \n",
      "A      2000-01-03  56.330471  56.464592  48.193848  51.502148  43.613007   \n",
      "A      2000-01-04  48.730328  49.266811  46.316166  47.567955  40.281456   \n",
      "A      2000-01-05  47.389126  47.567955  43.141991  44.617310  37.782803   \n",
      "A      2000-01-06  44.080830  44.349072  41.577251  42.918453  36.344173   \n",
      "A      2000-01-07  42.247852  47.165592  42.203148  46.494991  39.372841   \n",
      "\n",
      "         Volume       sector                       subsector  year  Close_lag  \\\n",
      "ticker                                                                          \n",
      "A       4674353  Health Care  Life Sciences Tools & Services  2000        NaN   \n",
      "A       4765083  Health Care  Life Sciences Tools & Services  2000  51.502148   \n",
      "A       5758642  Health Care  Life Sciences Tools & Services  2000  47.567955   \n",
      "A       2534434  Health Care  Life Sciences Tools & Services  2000  44.617310   \n",
      "A       2819626  Health Care  Life Sciences Tools & Services  2000  42.918453   \n",
      "\n",
      "         returns  hi_lo_range  \n",
      "ticker                         \n",
      "A            NaN     8.270744  \n",
      "A      -0.076389     2.950645  \n",
      "A      -0.062030     4.425964  \n",
      "A      -0.038076     2.771820  \n",
      "A       0.083333     4.962444  \n"
     ]
    }
   ],
   "source": [
    "# Write your code below.\n",
    "dd_feat = dd_px.map_partitions(\n",
    "    lambda df: df.assign(\n",
    "        Close_lag=df['Close'].shift(1),\n",
    "        returns=(df['Close'] / df['Close'].shift(1)) - 1,\n",
    "        hi_lo_range=df['High'] - df['Low']\n",
    "    )\n",
    ")\n",
    "\n",
    "# Step 4: Compute and display results\n",
    "dd_feat = dd_feat.compute()\n",
    "print(dd_feat.head())"
   ]
  },
  {
   "cell_type": "markdown",
   "metadata": {},
   "source": [
    "+ Convert the Dask data frame to a pandas data frame. \n",
    "+ Add a rolling average return calculation with a window of 10 days.\n",
    "+ *Tip*: Consider using `.rolling(10).mean()`.\n",
    "\n",
    "(3 pt)"
   ]
  },
  {
   "cell_type": "code",
   "execution_count": 33,
   "metadata": {},
   "outputs": [
    {
     "name": "stdout",
     "output_type": "stream",
     "text": [
      "             Date       Open       High        Low      Close  Adj Close  \\\n",
      "ticker                                                                     \n",
      "A      2000-01-03  56.330471  56.464592  48.193848  51.502148  43.613007   \n",
      "A      2000-01-04  48.730328  49.266811  46.316166  47.567955  40.281456   \n",
      "A      2000-01-05  47.389126  47.567955  43.141991  44.617310  37.782803   \n",
      "A      2000-01-06  44.080830  44.349072  41.577251  42.918453  36.344173   \n",
      "A      2000-01-07  42.247852  47.165592  42.203148  46.494991  39.372841   \n",
      "\n",
      "         Volume       sector                       subsector  year  Close_lag  \\\n",
      "ticker                                                                          \n",
      "A       4674353  Health Care  Life Sciences Tools & Services  2000        NaN   \n",
      "A       4765083  Health Care  Life Sciences Tools & Services  2000  51.502148   \n",
      "A       5758642  Health Care  Life Sciences Tools & Services  2000  47.567955   \n",
      "A       2534434  Health Care  Life Sciences Tools & Services  2000  44.617310   \n",
      "A       2819626  Health Care  Life Sciences Tools & Services  2000  42.918453   \n",
      "\n",
      "         returns  hi_lo_range  rolling_avg_return  \n",
      "ticker                                             \n",
      "A            NaN     8.270744                 NaN  \n",
      "A      -0.076389     2.950645                 NaN  \n",
      "A      -0.062030     4.425964                 NaN  \n",
      "A      -0.038076     2.771820                 NaN  \n",
      "A       0.083333     4.962444                 NaN  \n"
     ]
    }
   ],
   "source": [
    "# Write your code below.\n",
    "dd_feat['rolling_avg_return'] = dd_feat.groupby('ticker')['returns'].rolling(window=10).mean().reset_index(level=0, drop=True)\n",
    "print(dd_feat.head())\n"
   ]
  },
  {
   "cell_type": "markdown",
   "metadata": {},
   "source": [
    "Please comment:\n",
    "\n",
    "+ Was it necessary to convert to pandas to calculate the moving average return?\n",
    "\n",
    "Converting to Pandas was necessary to calculate the rolling average return because Dask does not directly support rolling calculations like Pandas does. Dask's design focuses on parallelizing operations across multiple cores or machines, which often sacrifices support for certain operations that are not easily parallelizable.\n",
    "\n",
    "+ Would it have been better to do it in Dask? Why?\n",
    "No. Implementing rolling calculations directly in Dask would involve custom functions or potentially less efficient workarounds. This could introduce complexity and reduce clarity in the code, especially for operations that are straightforward in Pandas. Using Pandas for specific operations like rolling calculations is often the preferred approach for simplicity and performance.\n",
    "\n",
    "\n",
    "(1 pt)"
   ]
  },
  {
   "cell_type": "markdown",
   "metadata": {},
   "source": [
    "## Criteria\n",
    "\n",
    "|Criteria|Complete|Incomplete|\n",
    "|---------------------|----|----|\n",
    "|Calculations         |Calculations were done correctly.|Calculations were not done correctly.|\n",
    "|Explanation of answer|Answer was concise and explained the learner's reasoning in depth.|Answer was not concise and did not explained the learner's reasoning in depth.|"
   ]
  },
  {
   "cell_type": "markdown",
   "metadata": {},
   "source": [
    "## Submission Information\n",
    "\n",
    "🚨 **Please review our [Assignment Submission Guide](https://github.com/UofT-DSI/onboarding/blob/main/onboarding_documents/submissions.md)** 🚨 for detailed instructions on how to format, branch, and submit your work. Following these guidelines is crucial for your submissions to be evaluated correctly.\n",
    "\n",
    "### Submission Parameters:\n",
    "* Submission Due Date: `HH:MM AM/PM - DD/MM/YYYY`\n",
    "* The branch name for your repo should be: `assignment-1`\n",
    "* What to submit for this assignment:\n",
    "    * This Jupyter Notebook (assignment_1.ipynb) should be populated and should be the only change in your pull request.\n",
    "* What the pull request link should look like for this assignment: `https://github.com/<your_github_username>/production/pull/<pr_id>`\n",
    "    * Open a private window in your browser. Copy and paste the link to your pull request into the address bar. Make sure you can see your pull request properly. This helps the technical facilitator and learning support staff review your submission easily.\n",
    "\n",
    "Checklist:\n",
    "- [ ] Created a branch with the correct naming convention.\n",
    "- [ ] Ensured that the repository is public.\n",
    "- [ ] Reviewed the PR description guidelines and adhered to them.\n",
    "- [ ] Verify that the link is accessible in a private browser window.\n",
    "\n",
    "If you encounter any difficulties or have questions, please don't hesitate to reach out to our team via our Slack at `#cohort-3-help`. Our Technical Facilitators and Learning Support staff are here to help you navigate any challenges."
   ]
  }
 ],
 "metadata": {
  "kernelspec": {
   "display_name": "env",
   "language": "python",
   "name": "python3"
  },
  "language_info": {
   "codemirror_mode": {
    "name": "ipython",
    "version": 3
   },
   "file_extension": ".py",
   "mimetype": "text/x-python",
   "name": "python",
   "nbconvert_exporter": "python",
   "pygments_lexer": "ipython3",
   "version": "3.9.19"
  }
 },
 "nbformat": 4,
 "nbformat_minor": 2
}
